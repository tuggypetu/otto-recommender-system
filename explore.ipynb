{
 "cells": [
  {
   "cell_type": "code",
   "execution_count": 1,
   "metadata": {},
   "outputs": [],
   "source": [
    "import pandas as pd"
   ]
  },
  {
   "cell_type": "code",
   "execution_count": 2,
   "metadata": {},
   "outputs": [
    {
     "data": {
      "text/html": [
       "<div>\n",
       "<style scoped>\n",
       "    .dataframe tbody tr th:only-of-type {\n",
       "        vertical-align: middle;\n",
       "    }\n",
       "\n",
       "    .dataframe tbody tr th {\n",
       "        vertical-align: top;\n",
       "    }\n",
       "\n",
       "    .dataframe thead th {\n",
       "        text-align: right;\n",
       "    }\n",
       "</style>\n",
       "<table border=\"1\" class=\"dataframe\">\n",
       "  <thead>\n",
       "    <tr style=\"text-align: right;\">\n",
       "      <th></th>\n",
       "      <th>session_type</th>\n",
       "      <th>labels</th>\n",
       "    </tr>\n",
       "  </thead>\n",
       "  <tbody>\n",
       "    <tr>\n",
       "      <th>0</th>\n",
       "      <td>12899779_clicks</td>\n",
       "      <td>129004 126836 118524</td>\n",
       "    </tr>\n",
       "    <tr>\n",
       "      <th>1</th>\n",
       "      <td>12899779_carts</td>\n",
       "      <td>129004 126836 118524</td>\n",
       "    </tr>\n",
       "    <tr>\n",
       "      <th>2</th>\n",
       "      <td>12899779_orders</td>\n",
       "      <td>129004 126836 118524</td>\n",
       "    </tr>\n",
       "    <tr>\n",
       "      <th>3</th>\n",
       "      <td>12899780_clicks</td>\n",
       "      <td>129004 126836 118524</td>\n",
       "    </tr>\n",
       "    <tr>\n",
       "      <th>4</th>\n",
       "      <td>12899780_carts</td>\n",
       "      <td>129004 126836 118524</td>\n",
       "    </tr>\n",
       "    <tr>\n",
       "      <th>...</th>\n",
       "      <td>...</td>\n",
       "      <td>...</td>\n",
       "    </tr>\n",
       "    <tr>\n",
       "      <th>5015404</th>\n",
       "      <td>14571580_carts</td>\n",
       "      <td>129004 126836 118524</td>\n",
       "    </tr>\n",
       "    <tr>\n",
       "      <th>5015405</th>\n",
       "      <td>14571580_orders</td>\n",
       "      <td>129004 126836 118524</td>\n",
       "    </tr>\n",
       "    <tr>\n",
       "      <th>5015406</th>\n",
       "      <td>14571581_clicks</td>\n",
       "      <td>129004 126836 118524</td>\n",
       "    </tr>\n",
       "    <tr>\n",
       "      <th>5015407</th>\n",
       "      <td>14571581_carts</td>\n",
       "      <td>129004 126836 118524</td>\n",
       "    </tr>\n",
       "    <tr>\n",
       "      <th>5015408</th>\n",
       "      <td>14571581_orders</td>\n",
       "      <td>129004 126836 118524</td>\n",
       "    </tr>\n",
       "  </tbody>\n",
       "</table>\n",
       "<p>5015409 rows × 2 columns</p>\n",
       "</div>"
      ],
      "text/plain": [
       "            session_type                labels\n",
       "0        12899779_clicks  129004 126836 118524\n",
       "1         12899779_carts  129004 126836 118524\n",
       "2        12899779_orders  129004 126836 118524\n",
       "3        12899780_clicks  129004 126836 118524\n",
       "4         12899780_carts  129004 126836 118524\n",
       "...                  ...                   ...\n",
       "5015404   14571580_carts  129004 126836 118524\n",
       "5015405  14571580_orders  129004 126836 118524\n",
       "5015406  14571581_clicks  129004 126836 118524\n",
       "5015407   14571581_carts  129004 126836 118524\n",
       "5015408  14571581_orders  129004 126836 118524\n",
       "\n",
       "[5015409 rows x 2 columns]"
      ]
     },
     "execution_count": 2,
     "metadata": {},
     "output_type": "execute_result"
    }
   ],
   "source": [
    "df_submit_sample = pd.read_csv(\"otto-recommender-system/sample_submission.csv\")\n",
    "df_submit_sample"
   ]
  },
  {
   "cell_type": "code",
   "execution_count": null,
   "metadata": {},
   "outputs": [],
   "source": [
    "df_test = pd.read_json(\"otto-recommender-system/test.jsonl\")\n",
    "df_test"
   ]
  }
 ],
 "metadata": {
  "kernelspec": {
   "display_name": "env_tf",
   "language": "python",
   "name": "python3"
  },
  "language_info": {
   "codemirror_mode": {
    "name": "ipython",
    "version": 3
   },
   "file_extension": ".py",
   "mimetype": "text/x-python",
   "name": "python",
   "nbconvert_exporter": "python",
   "pygments_lexer": "ipython3",
   "version": "3.10.6"
  },
  "orig_nbformat": 4,
  "vscode": {
   "interpreter": {
    "hash": "26de3aefd00fb54631daffb4991d917a311baf5150f301a87ab3b80759ebff23"
   }
  }
 },
 "nbformat": 4,
 "nbformat_minor": 2
}
